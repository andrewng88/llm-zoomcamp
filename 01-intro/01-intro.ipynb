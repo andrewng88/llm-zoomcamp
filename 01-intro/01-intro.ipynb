{
 "cells": [
  {
   "cell_type": "code",
   "execution_count": 1,
   "id": "543085a7-5532-40bf-9cf2-0893b0fd59d5",
   "metadata": {},
   "outputs": [],
   "source": [
    "import openai"
   ]
  },
  {
   "cell_type": "code",
   "execution_count": 4,
   "id": "f83ab4e3-d456-4949-9200-0b6e855e2621",
   "metadata": {},
   "outputs": [],
   "source": [
    "from openai import OpenAI\n",
    "import os"
   ]
  },
  {
   "cell_type": "code",
   "execution_count": 11,
   "id": "88f3081a-218c-4a1b-b416-ce073444853d",
   "metadata": {},
   "outputs": [],
   "source": [
    "client= OpenAI(api_key=os.environ['OPEN_AI_KEY'])"
   ]
  },
  {
   "cell_type": "code",
   "execution_count": 12,
   "id": "bb7cba54-2a72-4c09-936f-4614046774ae",
   "metadata": {},
   "outputs": [],
   "source": [
    "response = client.chat.completions.create(\n",
    "    model = 'gpt-4o',\n",
    "    messages = [{\"role\" : \"user\" , \"content\" : \"is it too late to join the course?\"}]\n",
    "    )"
   ]
  },
  {
   "cell_type": "code",
   "execution_count": 13,
   "id": "44c7c8c9-70e3-46aa-a32c-0c6516b9b76a",
   "metadata": {},
   "outputs": [
    {
     "data": {
      "text/plain": [
       "ChatCompletion(id='chatcmpl-9amwdCJyCsZIVxKw0bhmj5g3Gn5n9', choices=[Choice(finish_reason='stop', index=0, logprobs=None, message=ChatCompletionMessage(content=\"Whether it's too late to join a course depends on several factors such as the course start date, enrollment deadlines, the institution's policies, and the nature of the course. Here are a few steps you can take to find out:\\n\\n1. **Check the Course Website:** Look for any enrollment deadlines or late enrollment policies.\\n2. **Contact the Instructor or Institution:** Reach out directly to the course instructor or administrative office to ask about the possibility of enrolling late.\\n3. **Consider Self-Paced Options:** If the course is offered online, some platforms may allow you to join at any time and progress at your own pace.\\n4. **Look for Prerequisites:** Ensure you meet any prerequisites that might be necessary for the course, and inquire if any missed content can be made up.\\n\\nIf you provide more specific details about the course or the institution, I might be able to offer more tailored advice.\", role='assistant', function_call=None, tool_calls=None))], created=1718554979, model='gpt-4o-2024-05-13', object='chat.completion', system_fingerprint='fp_319be4768e', usage=CompletionUsage(completion_tokens=181, prompt_tokens=16, total_tokens=197))"
      ]
     },
     "execution_count": 13,
     "metadata": {},
     "output_type": "execute_result"
    }
   ],
   "source": [
    "response"
   ]
  },
  {
   "cell_type": "code",
   "execution_count": 16,
   "id": "8367e282-d9cd-4359-95dc-69b4e7ce1c44",
   "metadata": {},
   "outputs": [
    {
     "data": {
      "text/plain": [
       "\"Whether it's too late to join a course depends on several factors such as the course start date, enrollment deadlines, the institution's policies, and the nature of the course. Here are a few steps you can take to find out:\\n\\n1. **Check the Course Website:** Look for any enrollment deadlines or late enrollment policies.\\n2. **Contact the Instructor or Institution:** Reach out directly to the course instructor or administrative office to ask about the possibility of enrolling late.\\n3. **Consider Self-Paced Options:** If the course is offered online, some platforms may allow you to join at any time and progress at your own pace.\\n4. **Look for Prerequisites:** Ensure you meet any prerequisites that might be necessary for the course, and inquire if any missed content can be made up.\\n\\nIf you provide more specific details about the course or the institution, I might be able to offer more tailored advice.\""
      ]
     },
     "execution_count": 16,
     "metadata": {},
     "output_type": "execute_result"
    }
   ],
   "source": [
    "response.choices[0].message.content"
   ]
  },
  {
   "cell_type": "code",
   "execution_count": null,
   "id": "87f0b40b-881d-4ead-8db4-5e0ea0fc1cff",
   "metadata": {},
   "outputs": [],
   "source": []
  }
 ],
 "metadata": {
  "kernelspec": {
   "display_name": "Python 3 (ipykernel)",
   "language": "python",
   "name": "python3"
  },
  "language_info": {
   "codemirror_mode": {
    "name": "ipython",
    "version": 3
   },
   "file_extension": ".py",
   "mimetype": "text/x-python",
   "name": "python",
   "nbconvert_exporter": "python",
   "pygments_lexer": "ipython3",
   "version": "3.12.3"
  }
 },
 "nbformat": 4,
 "nbformat_minor": 5
}
